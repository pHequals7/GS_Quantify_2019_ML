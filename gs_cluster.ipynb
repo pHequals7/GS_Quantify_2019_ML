{
 "cells": [
  {
   "cell_type": "code",
   "execution_count": 5,
   "metadata": {},
   "outputs": [],
   "source": [
    "import re"
   ]
  },
  {
   "cell_type": "code",
   "execution_count": 63,
   "metadata": {},
   "outputs": [
    {
     "data": {
      "text/html": [
       "<div>\n",
       "<style scoped>\n",
       "    .dataframe tbody tr th:only-of-type {\n",
       "        vertical-align: middle;\n",
       "    }\n",
       "\n",
       "    .dataframe tbody tr th {\n",
       "        vertical-align: top;\n",
       "    }\n",
       "\n",
       "    .dataframe thead th {\n",
       "        text-align: right;\n",
       "    }\n",
       "</style>\n",
       "<table border=\"1\" class=\"dataframe\">\n",
       "  <thead>\n",
       "    <tr style=\"text-align: right;\">\n",
       "      <th></th>\n",
       "      <th>LineNumber</th>\n",
       "      <th>Text</th>\n",
       "    </tr>\n",
       "  </thead>\n",
       "  <tbody>\n",
       "    <tr>\n",
       "      <th>0</th>\n",
       "      <td>L0</td>\n",
       "      <td>gs.api.log.57_13-09-2019_06:59 34703 INFO gs.o...</td>\n",
       "    </tr>\n",
       "    <tr>\n",
       "      <th>1</th>\n",
       "      <td>L1</td>\n",
       "      <td>gs.compute.log.30_2019-09-12_07:04:00 39946 IN...</td>\n",
       "    </tr>\n",
       "    <tr>\n",
       "      <th>2</th>\n",
       "      <td>L2</td>\n",
       "      <td>gs.compute.log.77_2019-09-11_10:53:00 94359 IN...</td>\n",
       "    </tr>\n",
       "    <tr>\n",
       "      <th>3</th>\n",
       "      <td>L3</td>\n",
       "      <td>gs.compute.log.38_2019-09-01_13:31:00 80828 IN...</td>\n",
       "    </tr>\n",
       "    <tr>\n",
       "      <th>4</th>\n",
       "      <td>L4</td>\n",
       "      <td>gs.api.log.38_Sep 01, 2019_13:20:00 44944 INFO...</td>\n",
       "    </tr>\n",
       "  </tbody>\n",
       "</table>\n",
       "</div>"
      ],
      "text/plain": [
       "  LineNumber                                               Text\n",
       "0         L0  gs.api.log.57_13-09-2019_06:59 34703 INFO gs.o...\n",
       "1         L1  gs.compute.log.30_2019-09-12_07:04:00 39946 IN...\n",
       "2         L2  gs.compute.log.77_2019-09-11_10:53:00 94359 IN...\n",
       "3         L3  gs.compute.log.38_2019-09-01_13:31:00 80828 IN...\n",
       "4         L4  gs.api.log.38_Sep 01, 2019_13:20:00 44944 INFO..."
      ]
     },
     "execution_count": 63,
     "metadata": {},
     "output_type": "execute_result"
    }
   ],
   "source": [
    "import pandas as pd\n",
    "data = [line.strip() for line in open(\"train_set.txt\", \"r\").readlines()]\n",
    "data = [{\"LineNumber\": line.split('~')[0], \"Text\": line.split('~')[1]} for line in data]\n",
    "data = pd.DataFrame(data)\n",
    "data.head()"
   ]
  },
  {
   "cell_type": "code",
   "execution_count": 72,
   "metadata": {},
   "outputs": [
    {
     "data": {
      "text/plain": [
       "(702, 2)"
      ]
     },
     "execution_count": 72,
     "metadata": {},
     "output_type": "execute_result"
    }
   ],
   "source": [
    "datat = [line.strip() for line in open(\"public_test_set.txt\", \"r\").readlines()]\n",
    "datat = [{\"LineNumber\": line.split('~')[0], \"Text\": line.split('~')[1]} for line in datat]\n",
    "datat = pd.DataFrame(datat)\n",
    "datat.shape"
   ]
  },
  {
   "cell_type": "code",
   "execution_count": 105,
   "metadata": {},
   "outputs": [
    {
     "data": {
      "text/html": [
       "<div>\n",
       "<style scoped>\n",
       "    .dataframe tbody tr th:only-of-type {\n",
       "        vertical-align: middle;\n",
       "    }\n",
       "\n",
       "    .dataframe tbody tr th {\n",
       "        vertical-align: top;\n",
       "    }\n",
       "\n",
       "    .dataframe thead th {\n",
       "        text-align: right;\n",
       "    }\n",
       "</style>\n",
       "<table border=\"1\" class=\"dataframe\">\n",
       "  <thead>\n",
       "    <tr style=\"text-align: right;\">\n",
       "      <th></th>\n",
       "      <th>LineNumber</th>\n",
       "      <th>Text</th>\n",
       "      <th>response</th>\n",
       "      <th>API_code</th>\n",
       "    </tr>\n",
       "  </thead>\n",
       "  <tbody>\n",
       "    <tr>\n",
       "      <th>0</th>\n",
       "      <td>L0</td>\n",
       "      <td>gs.api.log.57_13-09-2019_06:59 34703 INFO gs.o...</td>\n",
       "      <td>wsgi</td>\n",
       "      <td>api</td>\n",
       "    </tr>\n",
       "    <tr>\n",
       "      <th>1</th>\n",
       "      <td>L1</td>\n",
       "      <td>gs.compute.log.30_2019-09-12_07:04:00 39946 IN...</td>\n",
       "      <td>server [ req-0fpkx-6purm-vpog-enwlc-a32lk ] Cr...</td>\n",
       "      <td>compute</td>\n",
       "    </tr>\n",
       "    <tr>\n",
       "      <th>2</th>\n",
       "      <td>L2</td>\n",
       "      <td>gs.compute.log.77_2019-09-11_10:53:00 94359 IN...</td>\n",
       "      <td>openstack</td>\n",
       "      <td>compute</td>\n",
       "    </tr>\n",
       "    <tr>\n",
       "      <th>3</th>\n",
       "      <td>L3</td>\n",
       "      <td>gs.compute.log.38_2019-09-01_13:31:00 80828 IN...</td>\n",
       "      <td>claims [ req-j1yt-0n37-nji3-xkf8 ] Creating ev...</td>\n",
       "      <td>compute</td>\n",
       "    </tr>\n",
       "    <tr>\n",
       "      <th>4</th>\n",
       "      <td>L4</td>\n",
       "      <td>gs.api.log.38_Sep 01, 2019_13:20:00 44944 INFO...</td>\n",
       "      <td>claims [ req-fcvp-2m85w-bdsu2p-voi178 ] \"DELET...</td>\n",
       "      <td>api</td>\n",
       "    </tr>\n",
       "  </tbody>\n",
       "</table>\n",
       "</div>"
      ],
      "text/plain": [
       "  LineNumber                                               Text  \\\n",
       "0         L0  gs.api.log.57_13-09-2019_06:59 34703 INFO gs.o...   \n",
       "1         L1  gs.compute.log.30_2019-09-12_07:04:00 39946 IN...   \n",
       "2         L2  gs.compute.log.77_2019-09-11_10:53:00 94359 IN...   \n",
       "3         L3  gs.compute.log.38_2019-09-01_13:31:00 80828 IN...   \n",
       "4         L4  gs.api.log.38_Sep 01, 2019_13:20:00 44944 INFO...   \n",
       "\n",
       "                                            response API_code  \n",
       "0                                               wsgi      api  \n",
       "1  server [ req-0fpkx-6purm-vpog-enwlc-a32lk ] Cr...  compute  \n",
       "2                                          openstack  compute  \n",
       "3  claims [ req-j1yt-0n37-nji3-xkf8 ] Creating ev...  compute  \n",
       "4  claims [ req-fcvp-2m85w-bdsu2p-voi178 ] \"DELET...      api  "
      ]
     },
     "execution_count": 105,
     "metadata": {},
     "output_type": "execute_result"
    }
   ],
   "source": [
    "data['response'] = data['Text'].apply(lambda x: x.split('.')[5])\n",
    "datat['response'] = datat['Text'].apply(lambda x: x.split('.')[5])\n",
    "data.head()"
   ]
  },
  {
   "cell_type": "code",
   "execution_count": 108,
   "metadata": {},
   "outputs": [
    {
     "data": {
      "text/html": [
       "<div>\n",
       "<style scoped>\n",
       "    .dataframe tbody tr th:only-of-type {\n",
       "        vertical-align: middle;\n",
       "    }\n",
       "\n",
       "    .dataframe tbody tr th {\n",
       "        vertical-align: top;\n",
       "    }\n",
       "\n",
       "    .dataframe thead th {\n",
       "        text-align: right;\n",
       "    }\n",
       "</style>\n",
       "<table border=\"1\" class=\"dataframe\">\n",
       "  <thead>\n",
       "    <tr style=\"text-align: right;\">\n",
       "      <th></th>\n",
       "      <th>LineNumber</th>\n",
       "      <th>Text</th>\n",
       "      <th>response</th>\n",
       "      <th>API_code</th>\n",
       "      <th>mod_txt</th>\n",
       "    </tr>\n",
       "  </thead>\n",
       "  <tbody>\n",
       "    <tr>\n",
       "      <th>0</th>\n",
       "      <td>L0</td>\n",
       "      <td>gs.api.log.57_13-09-2019_06:59 34703 INFO gs.o...</td>\n",
       "      <td>wsgi</td>\n",
       "      <td>api</td>\n",
       "      <td>gs.api.log._--_:  INFO gs.openstack.wsgi.serve...</td>\n",
       "    </tr>\n",
       "    <tr>\n",
       "      <th>1</th>\n",
       "      <td>L1</td>\n",
       "      <td>gs.compute.log.30_2019-09-12_07:04:00 39946 IN...</td>\n",
       "      <td>server [ req-0fpkx-6purm-vpog-enwlc-a32lk ] Cr...</td>\n",
       "      <td>compute</td>\n",
       "      <td>gs.compute.log._--_::  INFO gs.openapi.server ...</td>\n",
       "    </tr>\n",
       "    <tr>\n",
       "      <th>2</th>\n",
       "      <td>L2</td>\n",
       "      <td>gs.compute.log.77_2019-09-11_10:53:00 94359 IN...</td>\n",
       "      <td>openstack</td>\n",
       "      <td>compute</td>\n",
       "      <td>gs.compute.log._--_::  INFO gs.api.openstack.c...</td>\n",
       "    </tr>\n",
       "    <tr>\n",
       "      <th>3</th>\n",
       "      <td>L3</td>\n",
       "      <td>gs.compute.log.38_2019-09-01_13:31:00 80828 IN...</td>\n",
       "      <td>claims [ req-j1yt-0n37-nji3-xkf8 ] Creating ev...</td>\n",
       "      <td>compute</td>\n",
       "      <td>gs.compute.log._--_::  INFO gs.resource.claims...</td>\n",
       "    </tr>\n",
       "    <tr>\n",
       "      <th>4</th>\n",
       "      <td>L4</td>\n",
       "      <td>gs.api.log.38_Sep 01, 2019_13:20:00 44944 INFO...</td>\n",
       "      <td>claims [ req-fcvp-2m85w-bdsu2p-voi178 ] \"DELET...</td>\n",
       "      <td>api</td>\n",
       "      <td>gs.api.log._Sep , _::  INFO gs.resource.claims...</td>\n",
       "    </tr>\n",
       "  </tbody>\n",
       "</table>\n",
       "</div>"
      ],
      "text/plain": [
       "  LineNumber                                               Text  \\\n",
       "0         L0  gs.api.log.57_13-09-2019_06:59 34703 INFO gs.o...   \n",
       "1         L1  gs.compute.log.30_2019-09-12_07:04:00 39946 IN...   \n",
       "2         L2  gs.compute.log.77_2019-09-11_10:53:00 94359 IN...   \n",
       "3         L3  gs.compute.log.38_2019-09-01_13:31:00 80828 IN...   \n",
       "4         L4  gs.api.log.38_Sep 01, 2019_13:20:00 44944 INFO...   \n",
       "\n",
       "                                            response API_code  \\\n",
       "0                                               wsgi      api   \n",
       "1  server [ req-0fpkx-6purm-vpog-enwlc-a32lk ] Cr...  compute   \n",
       "2                                          openstack  compute   \n",
       "3  claims [ req-j1yt-0n37-nji3-xkf8 ] Creating ev...  compute   \n",
       "4  claims [ req-fcvp-2m85w-bdsu2p-voi178 ] \"DELET...      api   \n",
       "\n",
       "                                             mod_txt  \n",
       "0  gs.api.log._--_:  INFO gs.openstack.wsgi.serve...  \n",
       "1  gs.compute.log._--_::  INFO gs.openapi.server ...  \n",
       "2  gs.compute.log._--_::  INFO gs.api.openstack.c...  \n",
       "3  gs.compute.log._--_::  INFO gs.resource.claims...  \n",
       "4  gs.api.log._Sep , _::  INFO gs.resource.claims...  "
      ]
     },
     "execution_count": 108,
     "metadata": {},
     "output_type": "execute_result"
    }
   ],
   "source": [
    "data['mod_txt'] = data['Text'].apply(lambda x: ''.join([i for i in x if not i.isdigit()]))\n",
    "datat['mod_txt'] = datat['Text'].apply(lambda x: ''.join([i for i in x if not i.isdigit()]))\n",
    "data.head()"
   ]
  },
  {
   "cell_type": "code",
   "execution_count": 112,
   "metadata": {},
   "outputs": [
    {
     "data": {
      "text/html": [
       "<div>\n",
       "<style scoped>\n",
       "    .dataframe tbody tr th:only-of-type {\n",
       "        vertical-align: middle;\n",
       "    }\n",
       "\n",
       "    .dataframe tbody tr th {\n",
       "        vertical-align: top;\n",
       "    }\n",
       "\n",
       "    .dataframe thead th {\n",
       "        text-align: right;\n",
       "    }\n",
       "</style>\n",
       "<table border=\"1\" class=\"dataframe\">\n",
       "  <thead>\n",
       "    <tr style=\"text-align: right;\">\n",
       "      <th></th>\n",
       "      <th>LineNumber</th>\n",
       "      <th>Text</th>\n",
       "      <th>response</th>\n",
       "      <th>API_code</th>\n",
       "      <th>mod_txt</th>\n",
       "      <th>mod_txt2</th>\n",
       "    </tr>\n",
       "  </thead>\n",
       "  <tbody>\n",
       "    <tr>\n",
       "      <th>0</th>\n",
       "      <td>L0</td>\n",
       "      <td>gs.api.log.57_13-09-2019_06:59 34703 INFO gs.o...</td>\n",
       "      <td>wsgi</td>\n",
       "      <td>api</td>\n",
       "      <td>gs.api.log._--_:  INFO gs.openstack.wsgi.serve...</td>\n",
       "      <td>gs.api.log.:INFO gs.openstack.wsgi.server [ re...</td>\n",
       "    </tr>\n",
       "    <tr>\n",
       "      <th>1</th>\n",
       "      <td>L1</td>\n",
       "      <td>gs.compute.log.30_2019-09-12_07:04:00 39946 IN...</td>\n",
       "      <td>server [ req-0fpkx-6purm-vpog-enwlc-a32lk ] Cr...</td>\n",
       "      <td>compute</td>\n",
       "      <td>gs.compute.log._--_::  INFO gs.openapi.server ...</td>\n",
       "      <td>gs.compute.log.::INFO gs.openapi.server [ reqf...</td>\n",
       "    </tr>\n",
       "    <tr>\n",
       "      <th>2</th>\n",
       "      <td>L2</td>\n",
       "      <td>gs.compute.log.77_2019-09-11_10:53:00 94359 IN...</td>\n",
       "      <td>openstack</td>\n",
       "      <td>compute</td>\n",
       "      <td>gs.compute.log._--_::  INFO gs.api.openstack.c...</td>\n",
       "      <td>gs.compute.log.::INFO gs.api.openstack.compute...</td>\n",
       "    </tr>\n",
       "    <tr>\n",
       "      <th>3</th>\n",
       "      <td>L3</td>\n",
       "      <td>gs.compute.log.38_2019-09-01_13:31:00 80828 IN...</td>\n",
       "      <td>claims [ req-j1yt-0n37-nji3-xkf8 ] Creating ev...</td>\n",
       "      <td>compute</td>\n",
       "      <td>gs.compute.log._--_::  INFO gs.resource.claims...</td>\n",
       "      <td>gs.compute.log.::INFO gs.resource.claims [ req...</td>\n",
       "    </tr>\n",
       "    <tr>\n",
       "      <th>4</th>\n",
       "      <td>L4</td>\n",
       "      <td>gs.api.log.38_Sep 01, 2019_13:20:00 44944 INFO...</td>\n",
       "      <td>claims [ req-fcvp-2m85w-bdsu2p-voi178 ] \"DELET...</td>\n",
       "      <td>api</td>\n",
       "      <td>gs.api.log._Sep , _::  INFO gs.resource.claims...</td>\n",
       "      <td>gs.api.log.Sep , ::INFO gs.resource.claims [ r...</td>\n",
       "    </tr>\n",
       "  </tbody>\n",
       "</table>\n",
       "</div>"
      ],
      "text/plain": [
       "  LineNumber                                               Text  \\\n",
       "0         L0  gs.api.log.57_13-09-2019_06:59 34703 INFO gs.o...   \n",
       "1         L1  gs.compute.log.30_2019-09-12_07:04:00 39946 IN...   \n",
       "2         L2  gs.compute.log.77_2019-09-11_10:53:00 94359 IN...   \n",
       "3         L3  gs.compute.log.38_2019-09-01_13:31:00 80828 IN...   \n",
       "4         L4  gs.api.log.38_Sep 01, 2019_13:20:00 44944 INFO...   \n",
       "\n",
       "                                            response API_code  \\\n",
       "0                                               wsgi      api   \n",
       "1  server [ req-0fpkx-6purm-vpog-enwlc-a32lk ] Cr...  compute   \n",
       "2                                          openstack  compute   \n",
       "3  claims [ req-j1yt-0n37-nji3-xkf8 ] Creating ev...  compute   \n",
       "4  claims [ req-fcvp-2m85w-bdsu2p-voi178 ] \"DELET...      api   \n",
       "\n",
       "                                             mod_txt  \\\n",
       "0  gs.api.log._--_:  INFO gs.openstack.wsgi.serve...   \n",
       "1  gs.compute.log._--_::  INFO gs.openapi.server ...   \n",
       "2  gs.compute.log._--_::  INFO gs.api.openstack.c...   \n",
       "3  gs.compute.log._--_::  INFO gs.resource.claims...   \n",
       "4  gs.api.log._Sep , _::  INFO gs.resource.claims...   \n",
       "\n",
       "                                            mod_txt2  \n",
       "0  gs.api.log.:INFO gs.openstack.wsgi.server [ re...  \n",
       "1  gs.compute.log.::INFO gs.openapi.server [ reqf...  \n",
       "2  gs.compute.log.::INFO gs.api.openstack.compute...  \n",
       "3  gs.compute.log.::INFO gs.resource.claims [ req...  \n",
       "4  gs.api.log.Sep , ::INFO gs.resource.claims [ r...  "
      ]
     },
     "execution_count": 112,
     "metadata": {},
     "output_type": "execute_result"
    }
   ],
   "source": [
    "data['mod_txt2'] = data['mod_txt'].apply(lambda x: x.replace('_','').replace('-','').replace('  ',''))\n",
    "datat['mod_txt2'] = datat['mod_txt'].apply(lambda x: x.replace('_','').replace('-','').replace('  ','') )\n",
    "data.head()"
   ]
  },
  {
   "cell_type": "markdown",
   "metadata": {},
   "source": [
    "# Universal Sentence Encoder"
   ]
  },
  {
   "cell_type": "code",
   "execution_count": 115,
   "metadata": {},
   "outputs": [],
   "source": [
    "import tensorflow as tf\n",
    "import tensorflow_hub as hub"
   ]
  },
  {
   "cell_type": "code",
   "execution_count": 113,
   "metadata": {},
   "outputs": [
    {
     "data": {
      "text/plain": [
       "'gs.api.log.:INFO gs.openstack.wsgi.server [ reqymjwknyjwlrnhwlbg ] HTTP exception thrown: No entry found for any event'"
      ]
     },
     "execution_count": 113,
     "metadata": {},
     "output_type": "execute_result"
    }
   ],
   "source": [
    "data['mod_txt2'][0]"
   ]
  },
  {
   "cell_type": "code",
   "execution_count": 102,
   "metadata": {},
   "outputs": [
    {
     "data": {
      "text/plain": [
       "['gs',\n",
       " 'api',\n",
       " 'log',\n",
       " '57_13-09-2019_06:59 34703 INFO gs',\n",
       " 'openstack',\n",
       " 'wsgi',\n",
       " 'server [ req-y9mjwk-n1yj-6wl35r-nhwlbg ] HTTP exception thrown: No entry found for any event']"
      ]
     },
     "execution_count": 102,
     "metadata": {},
     "output_type": "execute_result"
    }
   ],
   "source": [
    "lsst = test_txt.split('.')\n",
    "lsst"
   ]
  },
  {
   "cell_type": "code",
   "execution_count": 49,
   "metadata": {},
   "outputs": [],
   "source": [
    "from sklearn.feature_extraction.text import TfidfVectorizer\n",
    "from sklearn.cluster import KMeans"
   ]
  },
  {
   "cell_type": "code",
   "execution_count": 69,
   "metadata": {},
   "outputs": [],
   "source": [
    "import matplotlib.pyplot as plt"
   ]
  },
  {
   "cell_type": "code",
   "execution_count": 81,
   "metadata": {},
   "outputs": [],
   "source": [
    "# wcss = []\n",
    "# for i in range(5,20):\n",
    "#     kmeans = KMeans(n_clusters=i,init='k-means++',max_iter=300,n_init=10,random_state=0)\n",
    "#     kmeans.fit(X)\n",
    "#     wcss.append(kmeans.inertia_)\n",
    "# plt.plot(range(5,20),wcss)\n",
    "# plt.title('The Elbow Method')\n",
    "# plt.xlabel('Number of clusters')\n",
    "# plt.ylabel('WCSS')\n",
    "# plt.savefig('elbow.png')\n",
    "# plt.show()"
   ]
  },
  {
   "cell_type": "code",
   "execution_count": 114,
   "metadata": {},
   "outputs": [],
   "source": [
    "desc = data['mod_txt2'].values\n",
    "vectorizer = TfidfVectorizer(max_features=1000)\n",
    "X = vectorizer.fit_transform(desc)\n",
    "kmeans = KMeans(n_clusters=20,init='k-means++',max_iter=500,n_init=10,random_state=0)\n",
    "kmeans.fit(X)\n",
    "X_test = vectorizer.transform(datat['mod_txt2'].values)\n",
    "y = kmeans.predict(X_test)\n",
    "results = pd.Series(y,index=None)\n",
    "results = results.map(resmap)\n",
    "resdata = {'LineNumber':datat['LineNumber'],'Class':results}\n",
    "df = pd.DataFrame(data=resdata)\n",
    "df.to_csv('./tfidf5_modtxt2.csv',index=False)"
   ]
  },
  {
   "cell_type": "code",
   "execution_count": 98,
   "metadata": {},
   "outputs": [],
   "source": [
    "# resmap = {}\n",
    "# for i in range(1,21):\n",
    "#     resmap.update({i-1:f'C{i}'})\n",
    "# resmap"
   ]
  },
  {
   "cell_type": "code",
   "execution_count": null,
   "metadata": {},
   "outputs": [],
   "source": []
  }
 ],
 "metadata": {
  "kernelspec": {
   "display_name": "Python 3",
   "language": "python",
   "name": "python3"
  },
  "language_info": {
   "codemirror_mode": {
    "name": "ipython",
    "version": 3
   },
   "file_extension": ".py",
   "mimetype": "text/x-python",
   "name": "python",
   "nbconvert_exporter": "python",
   "pygments_lexer": "ipython3",
   "version": "3.7.2"
  }
 },
 "nbformat": 4,
 "nbformat_minor": 2
}
