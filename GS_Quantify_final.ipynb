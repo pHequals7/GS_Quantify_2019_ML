{
 "cells": [
  {
   "cell_type": "markdown",
   "metadata": {
    "colab_type": "text",
    "id": "2Egq4AtesF3t"
   },
   "source": [
    "# GS Quantify 2019 - Pranav Hari IIT Madras - CE17B115"
   ]
  },
  {
   "cell_type": "code",
   "execution_count": 0,
   "metadata": {
    "colab": {},
    "colab_type": "code",
    "id": "1DgHUrEfRiFY"
   },
   "outputs": [],
   "source": [
    "import tensorflow as tf\n",
    "import tensorflow_hub as hub\n",
    "from sklearn.cluster import KMeans\n",
    "from sklearn.mixture import GaussianMixture\n",
    "import pandas as pd"
   ]
  },
  {
   "cell_type": "markdown",
   "metadata": {
    "colab_type": "text",
    "id": "ZV0QVfcvsAgi"
   },
   "source": [
    "## Loading Training Data"
   ]
  },
  {
   "cell_type": "code",
   "execution_count": 1,
   "metadata": {
    "colab": {
     "base_uri": "https://localhost:8080/",
     "height": 195
    },
    "colab_type": "code",
    "id": "OYi6U83cPvU8",
    "outputId": "52698633-c3b4-4802-9ef9-d58372cd0be2"
   },
   "outputs": [
    {
     "data": {
      "text/html": [
       "<div>\n",
       "<style scoped>\n",
       "    .dataframe tbody tr th:only-of-type {\n",
       "        vertical-align: middle;\n",
       "    }\n",
       "\n",
       "    .dataframe tbody tr th {\n",
       "        vertical-align: top;\n",
       "    }\n",
       "\n",
       "    .dataframe thead th {\n",
       "        text-align: right;\n",
       "    }\n",
       "</style>\n",
       "<table border=\"1\" class=\"dataframe\">\n",
       "  <thead>\n",
       "    <tr style=\"text-align: right;\">\n",
       "      <th></th>\n",
       "      <th>LineNumber</th>\n",
       "      <th>Text</th>\n",
       "    </tr>\n",
       "  </thead>\n",
       "  <tbody>\n",
       "    <tr>\n",
       "      <th>0</th>\n",
       "      <td>L0</td>\n",
       "      <td>gs.api.log.57_13-09-2019_06:59 34703 INFO gs.o...</td>\n",
       "    </tr>\n",
       "    <tr>\n",
       "      <th>1</th>\n",
       "      <td>L1</td>\n",
       "      <td>gs.compute.log.30_2019-09-12_07:04:00 39946 IN...</td>\n",
       "    </tr>\n",
       "    <tr>\n",
       "      <th>2</th>\n",
       "      <td>L2</td>\n",
       "      <td>gs.compute.log.77_2019-09-11_10:53:00 94359 IN...</td>\n",
       "    </tr>\n",
       "    <tr>\n",
       "      <th>3</th>\n",
       "      <td>L3</td>\n",
       "      <td>gs.compute.log.38_2019-09-01_13:31:00 80828 IN...</td>\n",
       "    </tr>\n",
       "    <tr>\n",
       "      <th>4</th>\n",
       "      <td>L4</td>\n",
       "      <td>gs.api.log.38_Sep 01, 2019_13:20:00 44944 INFO...</td>\n",
       "    </tr>\n",
       "  </tbody>\n",
       "</table>\n",
       "</div>"
      ],
      "text/plain": [
       "  LineNumber                                               Text\n",
       "0         L0  gs.api.log.57_13-09-2019_06:59 34703 INFO gs.o...\n",
       "1         L1  gs.compute.log.30_2019-09-12_07:04:00 39946 IN...\n",
       "2         L2  gs.compute.log.77_2019-09-11_10:53:00 94359 IN...\n",
       "3         L3  gs.compute.log.38_2019-09-01_13:31:00 80828 IN...\n",
       "4         L4  gs.api.log.38_Sep 01, 2019_13:20:00 44944 INFO..."
      ]
     },
     "execution_count": 1,
     "metadata": {
      "tags": []
     },
     "output_type": "execute_result"
    }
   ],
   "source": [
    "data = [line.strip() for line in open(\"train_set.txt\", \"r\").readlines()]\n",
    "data = [{\"LineNumber\": line.split('~')[0], \"Text\": line.split('~')[1]} for line in data]\n",
    "data = pd.DataFrame(data)\n",
    "data.head()"
   ]
  },
  {
   "cell_type": "code",
   "execution_count": 2,
   "metadata": {
    "colab": {
     "base_uri": "https://localhost:8080/",
     "height": 34
    },
    "colab_type": "code",
    "id": "KQR23G_7RfJc",
    "outputId": "b83fd92a-c9dc-4766-dc58-c6a8dc3ee61e"
   },
   "outputs": [
    {
     "data": {
      "text/plain": [
       "(702, 2)"
      ]
     },
     "execution_count": 2,
     "metadata": {
      "tags": []
     },
     "output_type": "execute_result"
    }
   ],
   "source": [
    "datat = [line.strip() for line in open(\"public_test_set.txt\", \"r\").readlines()]\n",
    "datat = [{\"LineNumber\": line.split('~')[0], \"Text\": line.split('~')[1]} for line in datat]\n",
    "datat = pd.DataFrame(datat)\n",
    "datat.shape"
   ]
  },
  {
   "cell_type": "code",
   "execution_count": 3,
   "metadata": {
    "colab": {
     "base_uri": "https://localhost:8080/",
     "height": 34
    },
    "colab_type": "code",
    "id": "wKZW-ZIgVMfg",
    "outputId": "3f0b3e14-d69e-4d6e-854d-745d7ff1fa8b"
   },
   "outputs": [
    {
     "data": {
      "text/plain": [
       "(1050, 2)"
      ]
     },
     "execution_count": 3,
     "metadata": {
      "tags": []
     },
     "output_type": "execute_result"
    }
   ],
   "source": [
    "datap = [line.strip() for line in open(\"private_test_set.txt\", \"r\").readlines()]\n",
    "datap = [{\"LineNumber\": line.split('~')[0], \"Text\": line.split('~')[1]} for line in datap]\n",
    "datap = pd.DataFrame(datap)\n",
    "datap.shape"
   ]
  },
  {
   "cell_type": "markdown",
   "metadata": {
    "colab_type": "text",
    "id": "ykRube3QyA95"
   },
   "source": [
    "## Feature Engineering"
   ]
  },
  {
   "cell_type": "code",
   "execution_count": 5,
   "metadata": {
    "colab": {
     "base_uri": "https://localhost:8080/",
     "height": 195
    },
    "colab_type": "code",
    "id": "1VFvmHapR7cg",
    "outputId": "2a0f905f-c921-4fcd-cdb0-ae266d8a7323"
   },
   "outputs": [
    {
     "data": {
      "text/html": [
       "<div>\n",
       "<style scoped>\n",
       "    .dataframe tbody tr th:only-of-type {\n",
       "        vertical-align: middle;\n",
       "    }\n",
       "\n",
       "    .dataframe tbody tr th {\n",
       "        vertical-align: top;\n",
       "    }\n",
       "\n",
       "    .dataframe thead th {\n",
       "        text-align: right;\n",
       "    }\n",
       "</style>\n",
       "<table border=\"1\" class=\"dataframe\">\n",
       "  <thead>\n",
       "    <tr style=\"text-align: right;\">\n",
       "      <th></th>\n",
       "      <th>LineNumber</th>\n",
       "      <th>Text</th>\n",
       "      <th>mod_txt</th>\n",
       "    </tr>\n",
       "  </thead>\n",
       "  <tbody>\n",
       "    <tr>\n",
       "      <th>0</th>\n",
       "      <td>L0</td>\n",
       "      <td>gs.api.log.57_13-09-2019_06:59 34703 INFO gs.o...</td>\n",
       "      <td>gs.api.log._--_:  INFO gs.openstack.wsgi.serve...</td>\n",
       "    </tr>\n",
       "    <tr>\n",
       "      <th>1</th>\n",
       "      <td>L1</td>\n",
       "      <td>gs.compute.log.30_2019-09-12_07:04:00 39946 IN...</td>\n",
       "      <td>gs.compute.log._--_::  INFO gs.openapi.server ...</td>\n",
       "    </tr>\n",
       "    <tr>\n",
       "      <th>2</th>\n",
       "      <td>L2</td>\n",
       "      <td>gs.compute.log.77_2019-09-11_10:53:00 94359 IN...</td>\n",
       "      <td>gs.compute.log._--_::  INFO gs.api.openstack.c...</td>\n",
       "    </tr>\n",
       "    <tr>\n",
       "      <th>3</th>\n",
       "      <td>L3</td>\n",
       "      <td>gs.compute.log.38_2019-09-01_13:31:00 80828 IN...</td>\n",
       "      <td>gs.compute.log._--_::  INFO gs.resource.claims...</td>\n",
       "    </tr>\n",
       "    <tr>\n",
       "      <th>4</th>\n",
       "      <td>L4</td>\n",
       "      <td>gs.api.log.38_Sep 01, 2019_13:20:00 44944 INFO...</td>\n",
       "      <td>gs.api.log._Sep , _::  INFO gs.resource.claims...</td>\n",
       "    </tr>\n",
       "  </tbody>\n",
       "</table>\n",
       "</div>"
      ],
      "text/plain": [
       "  LineNumber  ...                                            mod_txt\n",
       "0         L0  ...  gs.api.log._--_:  INFO gs.openstack.wsgi.serve...\n",
       "1         L1  ...  gs.compute.log._--_::  INFO gs.openapi.server ...\n",
       "2         L2  ...  gs.compute.log._--_::  INFO gs.api.openstack.c...\n",
       "3         L3  ...  gs.compute.log._--_::  INFO gs.resource.claims...\n",
       "4         L4  ...  gs.api.log._Sep , _::  INFO gs.resource.claims...\n",
       "\n",
       "[5 rows x 3 columns]"
      ]
     },
     "execution_count": 5,
     "metadata": {
      "tags": []
     },
     "output_type": "execute_result"
    }
   ],
   "source": [
    "data['mod_txt'] = data['Text'].apply(lambda x: ''.join([i for i in x if not i.isdigit()]))\n",
    "datat['mod_txt'] = datat['Text'].apply(lambda x: ''.join([i for i in x if not i.isdigit()]))\n",
    "datap['mod_txt'] = datap['Text'].apply(lambda x: ''.join([i for i in x if not i.isdigit()]))\n",
    "data.head()"
   ]
  },
  {
   "cell_type": "code",
   "execution_count": 15,
   "metadata": {
    "colab": {
     "base_uri": "https://localhost:8080/",
     "height": 279
    },
    "colab_type": "code",
    "id": "ne_tsAzaYVdq",
    "outputId": "296a9eaf-c8cf-4cde-afc7-11e97afba5fa"
   },
   "outputs": [
    {
     "data": {
      "text/html": [
       "<div>\n",
       "<style scoped>\n",
       "    .dataframe tbody tr th:only-of-type {\n",
       "        vertical-align: middle;\n",
       "    }\n",
       "\n",
       "    .dataframe tbody tr th {\n",
       "        vertical-align: top;\n",
       "    }\n",
       "\n",
       "    .dataframe thead th {\n",
       "        text-align: right;\n",
       "    }\n",
       "</style>\n",
       "<table border=\"1\" class=\"dataframe\">\n",
       "  <thead>\n",
       "    <tr style=\"text-align: right;\">\n",
       "      <th></th>\n",
       "      <th>LineNumber</th>\n",
       "      <th>Text</th>\n",
       "      <th>mod_txt</th>\n",
       "      <th>mod_txt2</th>\n",
       "    </tr>\n",
       "  </thead>\n",
       "  <tbody>\n",
       "    <tr>\n",
       "      <th>0</th>\n",
       "      <td>L0</td>\n",
       "      <td>gs.api.log.57_13-09-2019_06:59 34703 INFO gs.o...</td>\n",
       "      <td>gs.api.log._--_:  INFO gs.openstack.wsgi.serve...</td>\n",
       "      <td>gs.api.log.INFO gs.openstack.wsgi.server  reqy...</td>\n",
       "    </tr>\n",
       "    <tr>\n",
       "      <th>1</th>\n",
       "      <td>L1</td>\n",
       "      <td>gs.compute.log.30_2019-09-12_07:04:00 39946 IN...</td>\n",
       "      <td>gs.compute.log._--_::  INFO gs.openapi.server ...</td>\n",
       "      <td>gs.compute.log.INFO gs.openapi.server  reqfpkx...</td>\n",
       "    </tr>\n",
       "    <tr>\n",
       "      <th>2</th>\n",
       "      <td>L2</td>\n",
       "      <td>gs.compute.log.77_2019-09-11_10:53:00 94359 IN...</td>\n",
       "      <td>gs.compute.log._--_::  INFO gs.api.openstack.c...</td>\n",
       "      <td>gs.compute.log.INFO gs.api.openstack.compute.w...</td>\n",
       "    </tr>\n",
       "    <tr>\n",
       "      <th>3</th>\n",
       "      <td>L3</td>\n",
       "      <td>gs.compute.log.38_2019-09-01_13:31:00 80828 IN...</td>\n",
       "      <td>gs.compute.log._--_::  INFO gs.resource.claims...</td>\n",
       "      <td>gs.compute.log.INFO gs.resource.claims  reqjyt...</td>\n",
       "    </tr>\n",
       "    <tr>\n",
       "      <th>4</th>\n",
       "      <td>L4</td>\n",
       "      <td>gs.api.log.38_Sep 01, 2019_13:20:00 44944 INFO...</td>\n",
       "      <td>gs.api.log._Sep , _::  INFO gs.resource.claims...</td>\n",
       "      <td>gs.api.log.Sep , INFO gs.resource.claims  reqf...</td>\n",
       "    </tr>\n",
       "  </tbody>\n",
       "</table>\n",
       "</div>"
      ],
      "text/plain": [
       "  LineNumber  ...                                           mod_txt2\n",
       "0         L0  ...  gs.api.log.INFO gs.openstack.wsgi.server  reqy...\n",
       "1         L1  ...  gs.compute.log.INFO gs.openapi.server  reqfpkx...\n",
       "2         L2  ...  gs.compute.log.INFO gs.api.openstack.compute.w...\n",
       "3         L3  ...  gs.compute.log.INFO gs.resource.claims  reqjyt...\n",
       "4         L4  ...  gs.api.log.Sep , INFO gs.resource.claims  reqf...\n",
       "\n",
       "[5 rows x 4 columns]"
      ]
     },
     "execution_count": 15,
     "metadata": {
      "tags": []
     },
     "output_type": "execute_result"
    }
   ],
   "source": [
    "data['mod_txt2'] = data['mod_txt'].apply(lambda x: x.replace('_','').replace('-','').replace('  ','').replace(':','').replace('[','').replace(']',''))\n",
    "datat['mod_txt2'] = datat['mod_txt'].apply(lambda x: x.replace('_','').replace('-','').replace('  ','').replace(':','').replace('[','').replace(']','') )\n",
    "datap['mod_txt2'] = datap['mod_txt'].apply(lambda x: x.replace('_','').replace('-','').replace('  ','').replace(':','').replace('[','').replace(']','') )\n",
    "data.head()"
   ]
  },
  {
   "cell_type": "code",
   "execution_count": 0,
   "metadata": {
    "colab": {},
    "colab_type": "code",
    "id": "khIsAaJWb8hL"
   },
   "outputs": [],
   "source": [
    "def respext(texty):\n",
    "  ind = len(texty.split('  ')) - 1\n",
    "  try:\n",
    "    return texty.split('  ')[ind]\n",
    "  except:\n",
    "    return texty.split('  ')[ind-1]"
   ]
  },
  {
   "cell_type": "code",
   "execution_count": 0,
   "metadata": {
    "colab": {},
    "colab_type": "code",
    "id": "IwEkZNgrbarh"
   },
   "outputs": [],
   "source": [
    "data['response'] = data['mod_txt2'].apply(lambda x: respext(x))\n",
    "datat['response'] = datat['mod_txt2'].apply(lambda x: respext(x))\n",
    "datap['response'] = datap['mod_txt2'].apply(lambda x: respext(x))"
   ]
  },
  {
   "cell_type": "code",
   "execution_count": 43,
   "metadata": {
    "colab": {
     "base_uri": "https://localhost:8080/",
     "height": 296
    },
    "colab_type": "code",
    "id": "2ebXWkdtigHc",
    "outputId": "8e1d0c58-0b38-4094-eccd-696a4a13bbc3"
   },
   "outputs": [
    {
     "data": {
      "text/html": [
       "<div>\n",
       "<style scoped>\n",
       "    .dataframe tbody tr th:only-of-type {\n",
       "        vertical-align: middle;\n",
       "    }\n",
       "\n",
       "    .dataframe tbody tr th {\n",
       "        vertical-align: top;\n",
       "    }\n",
       "\n",
       "    .dataframe thead th {\n",
       "        text-align: right;\n",
       "    }\n",
       "</style>\n",
       "<table border=\"1\" class=\"dataframe\">\n",
       "  <thead>\n",
       "    <tr style=\"text-align: right;\">\n",
       "      <th></th>\n",
       "      <th>LineNumber</th>\n",
       "      <th>Text</th>\n",
       "      <th>mod_txt</th>\n",
       "      <th>mod_txt2</th>\n",
       "      <th>response</th>\n",
       "      <th>api_code</th>\n",
       "    </tr>\n",
       "  </thead>\n",
       "  <tbody>\n",
       "    <tr>\n",
       "      <th>0</th>\n",
       "      <td>L0</td>\n",
       "      <td>gs.api.log.57_13-09-2019_06:59 34703 INFO gs.o...</td>\n",
       "      <td>gs.api.log._--_:  INFO gs.openstack.wsgi.serve...</td>\n",
       "      <td>gs.api.log.INFO gs.openstack.wsgi.server  reqy...</td>\n",
       "      <td>HTTP exception thrown No entry found for any e...</td>\n",
       "      <td>api</td>\n",
       "    </tr>\n",
       "    <tr>\n",
       "      <th>1</th>\n",
       "      <td>L1</td>\n",
       "      <td>gs.compute.log.30_2019-09-12_07:04:00 39946 IN...</td>\n",
       "      <td>gs.compute.log._--_::  INFO gs.openapi.server ...</td>\n",
       "      <td>gs.compute.log.INFO gs.openapi.server  reqfpkx...</td>\n",
       "      <td>Creating event networkvifplugged for instance</td>\n",
       "      <td>compute</td>\n",
       "    </tr>\n",
       "    <tr>\n",
       "      <th>2</th>\n",
       "      <td>L2</td>\n",
       "      <td>gs.compute.log.77_2019-09-11_10:53:00 94359 IN...</td>\n",
       "      <td>gs.compute.log._--_::  INFO gs.api.openstack.c...</td>\n",
       "      <td>gs.compute.log.INFO gs.api.openstack.compute.w...</td>\n",
       "      <td>Creating event networkvifplugged for instance</td>\n",
       "      <td>compute</td>\n",
       "    </tr>\n",
       "    <tr>\n",
       "      <th>3</th>\n",
       "      <td>L3</td>\n",
       "      <td>gs.compute.log.38_2019-09-01_13:31:00 80828 IN...</td>\n",
       "      <td>gs.compute.log._--_::  INFO gs.resource.claims...</td>\n",
       "      <td>gs.compute.log.INFO gs.resource.claims  reqjyt...</td>\n",
       "      <td>Creating event networkvifplugged for instance</td>\n",
       "      <td>compute</td>\n",
       "    </tr>\n",
       "    <tr>\n",
       "      <th>4</th>\n",
       "      <td>L4</td>\n",
       "      <td>gs.api.log.38_Sep 01, 2019_13:20:00 44944 INFO...</td>\n",
       "      <td>gs.api.log._Sep , _::  INFO gs.resource.claims...</td>\n",
       "      <td>gs.api.log.Sep , INFO gs.resource.claims  reqf...</td>\n",
       "      <td>\"DELETE /v/lwjqtyfinpxu/servers/details HTTP/....</td>\n",
       "      <td>api</td>\n",
       "    </tr>\n",
       "  </tbody>\n",
       "</table>\n",
       "</div>"
      ],
      "text/plain": [
       "  LineNumber  ... api_code\n",
       "0         L0  ...      api\n",
       "1         L1  ...  compute\n",
       "2         L2  ...  compute\n",
       "3         L3  ...  compute\n",
       "4         L4  ...      api\n",
       "\n",
       "[5 rows x 6 columns]"
      ]
     },
     "execution_count": 43,
     "metadata": {
      "tags": []
     },
     "output_type": "execute_result"
    }
   ],
   "source": [
    "data.head()"
   ]
  },
  {
   "cell_type": "code",
   "execution_count": 0,
   "metadata": {
    "colab": {},
    "colab_type": "code",
    "id": "Vm5kSeUsfMne"
   },
   "outputs": [],
   "source": [
    "data['api_code'] = data['Text'].apply(lambda x:x.split('.')[1])\n",
    "datat['api_code'] = datat['Text'].apply(lambda x:x.split('.')[1])\n",
    "datap['api_code'] = datap['Text'].apply(lambda x:x.split('.')[1])"
   ]
  },
  {
   "cell_type": "code",
   "execution_count": 44,
   "metadata": {
    "colab": {
     "base_uri": "https://localhost:8080/",
     "height": 383
    },
    "colab_type": "code",
    "id": "0WxdnHz3hU5f",
    "outputId": "ad5cecb9-4d0c-47b8-c6b6-65deaf59f9fc"
   },
   "outputs": [
    {
     "data": {
      "text/html": [
       "<div>\n",
       "<style scoped>\n",
       "    .dataframe tbody tr th:only-of-type {\n",
       "        vertical-align: middle;\n",
       "    }\n",
       "\n",
       "    .dataframe tbody tr th {\n",
       "        vertical-align: top;\n",
       "    }\n",
       "\n",
       "    .dataframe thead th {\n",
       "        text-align: right;\n",
       "    }\n",
       "</style>\n",
       "<table border=\"1\" class=\"dataframe\">\n",
       "  <thead>\n",
       "    <tr style=\"text-align: right;\">\n",
       "      <th></th>\n",
       "      <th>LineNumber</th>\n",
       "      <th>Text</th>\n",
       "      <th>mod_txt</th>\n",
       "      <th>mod_txt2</th>\n",
       "      <th>response</th>\n",
       "      <th>api_code</th>\n",
       "      <th>api_text</th>\n",
       "    </tr>\n",
       "  </thead>\n",
       "  <tbody>\n",
       "    <tr>\n",
       "      <th>0</th>\n",
       "      <td>L0</td>\n",
       "      <td>gs.api.log.57_13-09-2019_06:59 34703 INFO gs.o...</td>\n",
       "      <td>gs.api.log._--_:  INFO gs.openstack.wsgi.serve...</td>\n",
       "      <td>gs.api.log.INFO gs.openstack.wsgi.server  reqy...</td>\n",
       "      <td>HTTP exception thrown No entry found for any e...</td>\n",
       "      <td>api</td>\n",
       "      <td>api-HTTP exception thrown No entry found for a...</td>\n",
       "    </tr>\n",
       "    <tr>\n",
       "      <th>1</th>\n",
       "      <td>L1</td>\n",
       "      <td>gs.compute.log.30_2019-09-12_07:04:00 39946 IN...</td>\n",
       "      <td>gs.compute.log._--_::  INFO gs.openapi.server ...</td>\n",
       "      <td>gs.compute.log.INFO gs.openapi.server  reqfpkx...</td>\n",
       "      <td>Creating event networkvifplugged for instance</td>\n",
       "      <td>compute</td>\n",
       "      <td>compute-Creating event networkvifplugged for i...</td>\n",
       "    </tr>\n",
       "    <tr>\n",
       "      <th>2</th>\n",
       "      <td>L2</td>\n",
       "      <td>gs.compute.log.77_2019-09-11_10:53:00 94359 IN...</td>\n",
       "      <td>gs.compute.log._--_::  INFO gs.api.openstack.c...</td>\n",
       "      <td>gs.compute.log.INFO gs.api.openstack.compute.w...</td>\n",
       "      <td>Creating event networkvifplugged for instance</td>\n",
       "      <td>compute</td>\n",
       "      <td>compute-Creating event networkvifplugged for i...</td>\n",
       "    </tr>\n",
       "    <tr>\n",
       "      <th>3</th>\n",
       "      <td>L3</td>\n",
       "      <td>gs.compute.log.38_2019-09-01_13:31:00 80828 IN...</td>\n",
       "      <td>gs.compute.log._--_::  INFO gs.resource.claims...</td>\n",
       "      <td>gs.compute.log.INFO gs.resource.claims  reqjyt...</td>\n",
       "      <td>Creating event networkvifplugged for instance</td>\n",
       "      <td>compute</td>\n",
       "      <td>compute-Creating event networkvifplugged for i...</td>\n",
       "    </tr>\n",
       "    <tr>\n",
       "      <th>4</th>\n",
       "      <td>L4</td>\n",
       "      <td>gs.api.log.38_Sep 01, 2019_13:20:00 44944 INFO...</td>\n",
       "      <td>gs.api.log._Sep , _::  INFO gs.resource.claims...</td>\n",
       "      <td>gs.api.log.Sep , INFO gs.resource.claims  reqf...</td>\n",
       "      <td>\"DELETE /v/lwjqtyfinpxu/servers/details HTTP/....</td>\n",
       "      <td>api</td>\n",
       "      <td>api-\"DELETE /v/lwjqtyfinpxu/servers/details HT...</td>\n",
       "    </tr>\n",
       "  </tbody>\n",
       "</table>\n",
       "</div>"
      ],
      "text/plain": [
       "  LineNumber  ...                                           api_text\n",
       "0         L0  ...  api-HTTP exception thrown No entry found for a...\n",
       "1         L1  ...  compute-Creating event networkvifplugged for i...\n",
       "2         L2  ...  compute-Creating event networkvifplugged for i...\n",
       "3         L3  ...  compute-Creating event networkvifplugged for i...\n",
       "4         L4  ...  api-\"DELETE /v/lwjqtyfinpxu/servers/details HT...\n",
       "\n",
       "[5 rows x 7 columns]"
      ]
     },
     "execution_count": 44,
     "metadata": {
      "tags": []
     },
     "output_type": "execute_result"
    }
   ],
   "source": [
    "data['api_text'] = data['api_code']+'-'+data['response']\n",
    "datat['api_text'] = datat['api_code']+'-'+datat['response']\n",
    "datap['api_text'] = datap['api_code']+'-'+datap['response']\n",
    "data.head()"
   ]
  },
  {
   "cell_type": "markdown",
   "metadata": {
    "colab_type": "text",
    "id": "5YfnhK66yKpr"
   },
   "source": [
    "## Universal Sentence Encoder - Text to Vector"
   ]
  },
  {
   "cell_type": "code",
   "execution_count": 58,
   "metadata": {
    "colab": {
     "base_uri": "https://localhost:8080/",
     "height": 52
    },
    "colab_type": "code",
    "id": "ZbZT5WrkRlYb",
    "outputId": "820f8e00-020c-43e8-8b28-be79f3439ed7"
   },
   "outputs": [
    {
     "name": "stdout",
     "output_type": "stream",
     "text": [
      "INFO:tensorflow:Saver not created because there are no variables in the graph to restore\n"
     ]
    },
    {
     "name": "stderr",
     "output_type": "stream",
     "text": [
      "INFO:tensorflow:Saver not created because there are no variables in the graph to restore\n"
     ]
    }
   ],
   "source": [
    "with tf.Graph().as_default():\n",
    "    embed = hub.Module(\"https://tfhub.dev/google/universal-sentence-encoder/2\")\n",
    "    messages = tf.placeholder(dtype=tf.string, shape=[None])\n",
    "    output = embed(messages)\n",
    "    with tf.Session() as session:\n",
    "        session.run([tf.global_variables_initializer(), tf.tables_initializer()])\n",
    "        train_embed = session.run(output, feed_dict={messages: data['mod_txt'].values})\n",
    "        test_embed = session.run(output, feed_dict={messages: datat['mod_txt'].values})\n",
    "        priv_embed = session.run(output, feed_dict={messages: datap['mod_txt'].values})"
   ]
  },
  {
   "cell_type": "code",
   "execution_count": 0,
   "metadata": {
    "colab": {},
    "colab_type": "code",
    "id": "vswcJ44LShYt"
   },
   "outputs": [],
   "source": [
    "resmap = {}\n",
    "for i in range(1,21):\n",
    "    resmap.update({i-1:f'C{i}'})"
   ]
  },
  {
   "cell_type": "markdown",
   "metadata": {
    "colab_type": "text",
    "id": "sh4GDToFyUvB"
   },
   "source": [
    "## KMeans Clustering on the vector Space"
   ]
  },
  {
   "cell_type": "code",
   "execution_count": 0,
   "metadata": {
    "colab": {},
    "colab_type": "code",
    "id": "uWoUDjFKSLZB"
   },
   "outputs": [],
   "source": [
    "kmeans = KMeans(n_clusters=10,init='k-means++',max_iter=500,n_init=10,random_state=0)\n",
    "kmeans.fit(train_embed)\n",
    "y = kmeans.predict(test_embed)\n",
    "y_private = kmeans.predict(priv_embed)\n",
    "results = pd.Series(y,index=None)\n",
    "res_priv = pd.Series(y_private,index=None)\n",
    "results = results.map(resmap)\n",
    "res_priv = res_priv.map(resmap)\n",
    "resdata = {'LineNumber':datat['LineNumber'],'Class':results}\n",
    "respriv = {'LineNumber':datap['LineNumber'],'Class':res_priv}\n",
    "df = pd.DataFrame(data=resdata)\n",
    "df_p = pd.DataFrame(data=respriv)\n",
    "df.to_csv('./tfidf12_use.csv',index=False)\n",
    "df_p.to_csv('./priv_use_12.csv',index=False)"
   ]
  },
  {
   "cell_type": "markdown",
   "metadata": {
    "colab_type": "text",
    "id": "zz9b2ny72fLw"
   },
   "source": [
    "## Gaussian Mixture Models"
   ]
  },
  {
   "cell_type": "code",
   "execution_count": 53,
   "metadata": {
    "colab": {
     "base_uri": "https://localhost:8080/",
     "height": 545
    },
    "colab_type": "code",
    "id": "B4QQ_u4kSb9J",
    "outputId": "ce116753-b14b-41c6-97ca-8246bdfff479"
   },
   "outputs": [
    {
     "name": "stdout",
     "output_type": "stream",
     "text": [
      "Initialization 0\n",
      "Initialization converged: True\t time lapse 94.66725s\t ll 1972.31062\n",
      "Initialization 1\n",
      "Initialization converged: True\t time lapse 93.61759s\t ll 1972.31062\n",
      "Initialization 2\n",
      "Initialization converged: True\t time lapse 93.28769s\t ll 1972.31062\n",
      "Initialization 3\n",
      "Initialization converged: True\t time lapse 92.82486s\t ll 1972.31062\n",
      "Initialization 4\n",
      "Initialization converged: True\t time lapse 92.05074s\t ll 1972.31062\n",
      "Initialization 5\n",
      "Initialization converged: True\t time lapse 91.44325s\t ll 1972.31062\n",
      "Initialization 6\n",
      "Initialization converged: True\t time lapse 91.02416s\t ll 1972.31062\n",
      "Initialization 7\n",
      "Initialization converged: True\t time lapse 91.04739s\t ll 1972.31062\n",
      "Initialization 8\n",
      "Initialization converged: True\t time lapse 90.60640s\t ll 1972.31062\n",
      "Initialization 9\n",
      "Initialization converged: True\t time lapse 91.10997s\t ll 1972.31062\n",
      "Initialization 10\n",
      "Initialization converged: True\t time lapse 90.75458s\t ll 1972.31062\n",
      "Initialization 11\n",
      "Initialization converged: True\t time lapse 90.59316s\t ll 1972.31062\n",
      "Initialization 12\n",
      "Initialization converged: True\t time lapse 91.28013s\t ll 1972.31062\n",
      "Initialization 13\n",
      "Initialization converged: True\t time lapse 90.87768s\t ll 1972.31062\n",
      "Initialization 14\n",
      "Initialization converged: True\t time lapse 91.15768s\t ll 1972.31062\n"
     ]
    }
   ],
   "source": [
    "gmm = GaussianMixture(n_components=20,covariance_type=\"tied\",init_params='random',max_iter=100,n_init=15,random_state=0,verbose=10)\n",
    "gmm.fit(train_embed)\n",
    "y = gmm.predict(test_embed)\n",
    "y_private = gmm.predict(priv_embed)\n",
    "results = pd.Series(y,index=None)\n",
    "res_priv = pd.Series(y_private,index=None)\n",
    "results = results.map(resmap)\n",
    "res_priv = res_priv.map(resmap)\n",
    "resdata = {'LineNumber':datat['LineNumber'],'Class':results}\n",
    "respriv = {'LineNumber':datap['LineNumber'],'Class':res_priv}\n",
    "df = pd.DataFrame(data=resdata)\n",
    "df_p = pd.DataFrame(data=respriv)\n",
    "df.to_csv('./gmm10_use_apiresp.csv',index=False)\n",
    "df_p.to_csv('./priv_use_apiresp_gmm10.csv',index=False)"
   ]
  },
  {
   "cell_type": "markdown",
   "metadata": {
    "colab_type": "text",
    "id": "gp8CpsjV2k6W"
   },
   "source": [
    "# Final Solution used was Kmeans Clustering on Universal Sentence Encoding Vector Space - no of clusters = 20, n_iterations = 500"
   ]
  }
 ],
 "metadata": {
  "accelerator": "GPU",
  "colab": {
   "collapsed_sections": [],
   "name": "GS Quantify.ipynb",
   "provenance": []
  },
  "kernelspec": {
   "display_name": "Python 3",
   "language": "python",
   "name": "python3"
  },
  "language_info": {
   "codemirror_mode": {
    "name": "ipython",
    "version": 3
   },
   "file_extension": ".py",
   "mimetype": "text/x-python",
   "name": "python",
   "nbconvert_exporter": "python",
   "pygments_lexer": "ipython3",
   "version": "3.7.2"
  }
 },
 "nbformat": 4,
 "nbformat_minor": 1
}
